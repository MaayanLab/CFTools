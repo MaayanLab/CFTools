{
 "cells": [
  {
   "cell_type": "code",
   "execution_count": 1,
   "metadata": {},
   "outputs": [],
   "source": [
    "import json\n",
    "import requests\n",
    "import sys\n",
    "import time\n",
    "sys.path.append('../ingestion_scripts/')\n",
    "from ingestion import *"
   ]
  },
  {
   "cell_type": "code",
   "execution_count": 86,
   "metadata": {},
   "outputs": [],
   "source": [
    "merged_keys = [\n",
    "    \"Tool_Name\",\n",
    "    \"Tool_Description\",\n",
    "    \"Institution\",\n",
    "    \"Homepage\",\n",
    "    \"$validator\"\n",
    "]\n",
    "\n",
    "convert = [\n",
    "    \"Added_On\",\n",
    "    \"Published_On\",\n",
    "    \"Last_Updated\"\n",
    "]\n",
    "\n",
    "merge_this = [\n",
    "    \"Keyword_List\",\n",
    "    \"Chemical_List\"\n",
    "]\n",
    "\n",
    "\n",
    "added = [\n",
    "    \"Social_Media_Mentions\",\n",
    "    \"Tweets\",\n",
    "    \"Facebook_Shares\",\n",
    "    \"News_sources_that_mentioned_the_publication\",\n",
    "    \"Readers_Count\",\n",
    "    \"Citations\",\n",
    "    \"Readers_Count\",\n",
    "    \"Readers_in_Connotea\",\n",
    "    \"Readers_in_Mendeley\",\n",
    "    \"Cited_By_Posts_Count\",\n",
    "] \n",
    "\n",
    "throwaway = [\n",
    "    \"Icon_link\",\n",
    "    \"Publicaions_in_this_journal\",\n",
    "    \"Users_who've_mentioned_the_publication_on_Twitter\",\n",
    "    \"Scientists_who_mentioned__the_publication_on_Twitter\"\n",
    "]\n",
    "\n",
    "renamed_map = {\n",
    "    \"Mentions_in_social_media\" : \"Social_Media_Mentions\",\n",
    "    \"Twitter_accounts_that_tweeted_this_publication\": \"Tweets\",\n",
    "    \"tool_homepage_url\": \"Homepage\",\n",
    "    \"KeywordList\": \"Keyword_List\"\n",
    "}\n"
   ]
  },
  {
   "cell_type": "code",
   "execution_count": 87,
   "metadata": {},
   "outputs": [],
   "source": [
    "def renamed(k):\n",
    "    if k in renamed_map:\n",
    "        return (renamed_map[k])\n",
    "    else:\n",
    "        return k\n",
    "\n",
    "\n",
    "def fetch_list(obj, key):\n",
    "    try:\n",
    "        return obj[key]\n",
    "    except Exception as identifier:\n",
    "        return []"
   ]
  },
  {
   "cell_type": "code",
   "execution_count": 88,
   "metadata": {},
   "outputs": [],
   "source": [
    "\n",
    "with open(\"data/signatures_cfde_unmerged_021920.json\") as o:\n",
    "    tools = json.loads(o.read())"
   ]
  },
  {
   "cell_type": "code",
   "execution_count": 89,
   "metadata": {},
   "outputs": [],
   "source": [
    "tool_homepage = {}\n",
    "for t in tools:\n",
    "    homepage = t[\"meta\"][\"tool_homepage_url\"]\n",
    "    tool_meta = {\n",
    "        \"id\": t[\"id\"],\n",
    "        \"library\": t[\"library\"],\n",
    "        \"meta\": {\n",
    "            \"Publications\": []\n",
    "        }\n",
    "    }\n",
    "    pub = {}\n",
    "    for k,v in t[\"meta\"].items():\n",
    "        key = renamed(k)\n",
    "        if key not in throwaway:\n",
    "            if key in convert:\n",
    "                if v:\n",
    "                    pub[key] = time.strftime('%Y-%m-%d', time.localtime(v))\n",
    "                    if key == \"Published_On\":\n",
    "                        tool_meta[\"meta\"][\"Year_First_Published\"] = time.strftime('%Y', time.localtime(v))\n",
    "            elif key == \"Article_Date\" and \"Published_On\" not in pub and len(v) > 0:\n",
    "                pub[\"Published_On\"] = \"%s-%s-%s\"%(v[0][\"Year\"],v[0][\"Month\"],v[0][\"Day\"])\n",
    "                tool_meta[\"meta\"][\"Year_First_Published\"] = v[0][\"Year\"]\n",
    "            elif key in merged_keys:\n",
    "                tool_meta[\"meta\"][key] = v\n",
    "            elif key in merge_this:\n",
    "                tool_meta[\"meta\"][key] = v\n",
    "            elif key in added:\n",
    "                pub[key] = v\n",
    "                tool_meta[\"meta\"][key] = v\n",
    "            else:\n",
    "                pub[key] = v\n",
    "    if homepage not in tool_homepage:\n",
    "        tool_meta[\"meta\"][\"Publications\"].append(pub)\n",
    "        tool_homepage[homepage] = tool_meta\n",
    "    else:\n",
    "        existing  = tool_homepage[homepage]\n",
    "        existing_published = existing[\"meta\"].get(\"Year_First_Published\")\n",
    "        curr_published = tool_meta[\"meta\"].get(\"Year_First_Published\")\n",
    "        if existing_published and int(existing_published) <= int(curr_published): # The one in the dict is published first\n",
    "            # append publication\n",
    "            existing[\"meta\"][\"Publications\"].append(pub)\n",
    "            # add stuff\n",
    "            for key in added:\n",
    "                if key in tool_meta[\"meta\"] and key in existing[\"meta\"]:\n",
    "                    existing[\"meta\"][key] += tool_meta[\"meta\"][key]\n",
    "                elif key in tool_meta[\"meta\"]:\n",
    "                    existing[\"meta\"][key] = tool_meta[\"meta\"][key]        \n",
    "            # Merge list\n",
    "            existing_keywords = set(fetch_list(existing[\"meta\"],\"Keyword_List\"))\n",
    "            curr_keywords = set(fetch_list(tool_meta[\"meta\"],\"Keyword_List\"))\n",
    "            merged_list = list(existing_keywords.union(curr_keywords))\n",
    "            if len(merged_list) > 0:\n",
    "                existing[\"meta\"][\"Keyword_List\"] = list(merged_list)\n",
    "            existing_chem = fetch_list(existing[\"meta\"],\"Chemical_List\")\n",
    "            curr_chem = fetch_list(tool_meta[\"meta\"],\"Chemical_List\")\n",
    "            chem = {}\n",
    "            for v in existing_chem:\n",
    "                chem[v[\"NameOfSubstance\"]] = v\n",
    "            for v in curr_chem:\n",
    "                chem[v[\"NameOfSubstance\"]] = v\n",
    "            existing[\"meta\"][\"Chemical_List\"] = list(chem.values())\n",
    "            # update existing       \n",
    "            tool_homepage[homepage] = existing\n",
    "        else:\n",
    "            # append publication\n",
    "            tool_meta[\"meta\"][\"Publications\"].append(pub)\n",
    "            # add stuff\n",
    "            for key in added:\n",
    "                if key in tool_meta[\"meta\"] and key in existing[\"meta\"]:\n",
    "                    tool_meta[\"meta\"][key] += existing[\"meta\"][key]\n",
    "                elif key in existing[\"meta\"]:\n",
    "                    tool_meta[\"meta\"][key] = existing[\"meta\"][key]\n",
    "            # Merge list\n",
    "            tool_meta_keywords = set(fetch_list(tool_meta[\"meta\"],\"Keyword_List\"))\n",
    "            existing_keywords = set(fetch_list(existing[\"meta\"],\"Keyword_List\"))\n",
    "            merged_list = list(tool_meta_keywords.union(existing_keywords))\n",
    "            if len(merged_list) > 0:\n",
    "                tool_meta[\"meta\"][\"Keyword_List\"] = list(merged_list)\n",
    "            tool_meta_chem = set(fetch_list(tool_meta[\"meta\"],\"Chemical_List\"))\n",
    "            existing_chem = set(fetch_list(existing[\"meta\"],\"Chemical_List\"))\n",
    "            chem = {}\n",
    "            for v in tool_meta_chem:\n",
    "                chem[v[\"NameOfSubstance\"]] = v\n",
    "            for v in existing_chem:\n",
    "                chem[v[\"NameOfSubstance\"]] = v\n",
    "            tool_meta[\"meta\"][\"Chemical_List\"] = list(chem.values())\n",
    "            # update tool_meta       \n",
    "            tool_homepage[homepage] = tool_meta\n"
   ]
  },
  {
   "cell_type": "code",
   "execution_count": 90,
   "metadata": {},
   "outputs": [
    {
     "data": {
      "text/plain": [
       "261"
      ]
     },
     "execution_count": 90,
     "metadata": {},
     "output_type": "execute_result"
    }
   ],
   "source": [
    "len(tool_homepage)"
   ]
  },
  {
   "cell_type": "code",
   "execution_count": 91,
   "metadata": {},
   "outputs": [
    {
     "data": {
      "text/plain": [
       "266"
      ]
     },
     "execution_count": 91,
     "metadata": {},
     "output_type": "execute_result"
    }
   ],
   "source": [
    "len(tools)"
   ]
  },
  {
   "cell_type": "code",
   "execution_count": 95,
   "metadata": {},
   "outputs": [],
   "source": [
    "def empty_cleaner(obj):\n",
    "    if type(obj) == str:\n",
    "        obj = obj.strip()\n",
    "        if obj == \"\":\n",
    "            return None\n",
    "        else:\n",
    "            return obj\n",
    "    elif type(obj) == list:\n",
    "        new_list = []\n",
    "        for i in obj:\n",
    "            v = empty_cleaner(i)\n",
    "            if v:\n",
    "                new_list.append(v)\n",
    "        if len(new_list) > 0:\n",
    "            return new_list\n",
    "        else:\n",
    "            return None\n",
    "    elif type(obj) == dict:\n",
    "        new_dict = {}\n",
    "        for k,v in obj.items():\n",
    "            val = empty_cleaner(v)\n",
    "            if val:\n",
    "                new_dict[k] = val\n",
    "        if len(new_dict) > 0:\n",
    "            return new_dict\n",
    "        else:\n",
    "            return None\n",
    "    else:\n",
    "        return obj"
   ]
  },
  {
   "cell_type": "code",
   "execution_count": 96,
   "metadata": {},
   "outputs": [],
   "source": [
    "tools_cleaned = list(tool_homepage.values())\n",
    "tools_empty_cleaned = empty_cleaner(tools_cleaned)"
   ]
  },
  {
   "cell_type": "code",
   "execution_count": 97,
   "metadata": {},
   "outputs": [],
   "source": [
    "with open(\"tool_cleaned_022020.json\", \"w\") as o:\n",
    "    o.write(json.dumps(tools_empty_cleaned)) "
   ]
  },
  {
   "cell_type": "code",
   "execution_count": 74,
   "metadata": {},
   "outputs": [],
   "source": [
    "tools_empty_cleaned"
   ]
  },
  {
   "cell_type": "code",
   "execution_count": null,
   "metadata": {},
   "outputs": [],
   "source": []
  }
 ],
 "metadata": {
  "kernelspec": {
   "display_name": "pvenv",
   "language": "python",
   "name": "pvenv"
  },
  "language_info": {
   "codemirror_mode": {
    "name": "ipython",
    "version": 3
   },
   "file_extension": ".py",
   "mimetype": "text/x-python",
   "name": "python",
   "nbconvert_exporter": "python",
   "pygments_lexer": "ipython3",
   "version": "3.6.5"
  }
 },
 "nbformat": 4,
 "nbformat_minor": 2
}